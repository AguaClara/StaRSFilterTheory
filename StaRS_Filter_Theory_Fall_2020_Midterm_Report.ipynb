{
  "nbformat": 4,
  "nbformat_minor": 0,
  "metadata": {
    "colab": {
      "name": "StaRS Filter Theory Fall 2020: Midterm Report",
      "provenance": [],
      "collapsed_sections": [
        "EvBA8kN4-dty"
      ],
      "include_colab_link": true
    },
    "kernelspec": {
      "name": "python3",
      "display_name": "Python 3"
    }
  },
  "cells": [
    {
      "cell_type": "markdown",
      "metadata": {
        "id": "view-in-github",
        "colab_type": "text"
      },
      "source": [
        "<a href=\"https://colab.research.google.com/github/AguaClara/filtration-theory/blob/master/StaRS_Filter_Theory_Fall_2020_Midterm_Report.ipynb\" target=\"_parent\"><img src=\"https://colab.research.google.com/assets/colab-badge.svg\" alt=\"Open In Colab\"/></a>"
      ]
    },
    {
      "cell_type": "markdown",
      "metadata": {
        "id": "awle31N5ykbr",
        "colab_type": "text"
      },
      "source": [
        "#**StaRS Filtration Theory, Spring 2020**\n",
        "#### Wenjie Lu, Claire Kenwood, Kelly Ly, Valentina Dai\n",
        "#### 3/5/2020\n",
        "\n"
      ]
    },
    {
      "cell_type": "markdown",
      "metadata": {
        "id": "lGzNCdLa1f38",
        "colab_type": "text"
      },
      "source": [
        "##**Abstract**\n",
        "---\n",
        "StaRS (Stacked Rapid Sand) Filtration is crucial to the water treatment process. As one of the last steps in AguaClara’s water treatment, StaRS filters are responsible for removing the last of the unwanted particles. In order to operate effectively under EPA standards, the filters must reduce the turbidity to 0.3 NTU or less. In efforts to better refine the AguaClara filters, variables such as grain size, the height of the active zone, coagulant dosage will be tested in order to increase the failure time. At the beginning of experimentation, the Fall 2019 StaRS sub-team will focus specifically on the grain size. \n",
        "\n",
        "<!--good abstract. succint and straight to the point. i would use a more technical term for harmful, what exactly are your removing?-->\n",
        "<!---5/5-->"
      ]
    },
    {
      "cell_type": "markdown",
      "metadata": {
        "id": "TpShT1NO1jsq",
        "colab_type": "text"
      },
      "source": [
        "## **Introduction**\n",
        "---\n",
        "Sand filtration has been a method of water filtration since ancient times. A common type of sand filtration utilized in AguaClara water treatment plants is rapid (gravity) sand filtration. This method requires the use of polyaluminum (PaCl) as a chemical coagulant to increase the clustering of small particles (flocs) in the water in efforts to increase the ease of particle filtration. This filtration approach has shown to be effective in reducing turbidity below 0.3, which meets EPA standards. Experimentation performed on the model sand filter in the lab and the similar StaRS filters in the water treatment plants in Honduras have also reflected such performance standards. \n",
        "The goal of the StaRS Filter Theory sub-team is to build a mathematical model that describes the performance of the filter. Therefore, the relevant filter parameters must be determined through experiments. These parameters can be used to optimize filter performance to minimize effluent turbidity and maximize failure time. The filter parameters studied in the past include the dosage of coagulant, water inlet flow rate, water inlet turbidity, backwash time and flocculation size. The Fall 2019 team ran experiments that analyzed the performance of the 3 new sand filters. These filters were built based on earlier teams’ research that showed larger sand grains would have shorter failure times. \n",
        "This semester the 2019 StaRS subteam will focus on the effect of sand size on the height of the active zone and create a model to estimate the depth of the active zone of the filters. Given that StaRS filters perform rather well even with only 20 cm of bed depth,our team expects that the active zone height is a tiny fraction of 20 cm. Each of the filters contains a layer of sand, differing in their sand grain size. The StaRS team will use this existing set up to measure performance as a function of time with a constant 5 NTU influent and a range of coagulant dosages. Then, the team will calculate the mass of particles captured by the filters during the ripening period and during the total filter run until failure.\n",
        "\n",
        "<!-- this is good intro. be sure to briefly include a hypothesis on what you expect and why! --->\n",
        "<!-- 8.5/10-->"
      ]
    },
    {
      "cell_type": "markdown",
      "metadata": {
        "id": "4gfgHIlZ2Evd",
        "colab_type": "text"
      },
      "source": [
        "## **Literature Review**\n",
        "---\n",
        "The team conducted a literature review to understand existing research on sand filtration. The team especially looked at research done on sand grain size as a factor to effective water filtration.\n",
        " \n",
        "Many research investigations were executed to determine the optimal sand grain size to prolong each run for water filtration. The team understood that the size was a factor but did not have a wide scope of understanding on the extent of this factor or other relative variables. One study <!--which study? please cite at the first point you mention a study--> noted that the larger the grain size, the faster the wastewater flowed through the sand and the greater the amount of wastewater that can be filtered. This was noted with the addition that if the grain size is too large, treatment efficiency would be reduced. This supported the team's intention of seeking the optimal sand grain size for longer failure time purposes. The research found that coarser sand provided less of a concern for clogging (Converse and Tyler, 2000). The ideal sand for intermittent sand filters is coarse sand with an effective size between 0.3mm and 0.5mm (Crites and Tchobanoglous, 1998; Ohio State University, 1999). Such statements provides a helpful starting point for the team to consider what sand grain sizes to run tests for. The published paper also emphasized the significance of the pore space in the sand,\n",
        " as opposed to attention given to the grain particles themselves. While the percentage of void volume generally remains constant as the diameter of spheres changes, the surface area of packed spheres (sand grains, in this case), increases and the size of pores per unit volume area decreases with smaller diameter spheres. An important note was that a granular media filter can improve on filtration efficiency from increases in the surface area per unit of volume, but can suffer in efficiency when the pore size is reduced by too much for sufficient flow during filtration (Ball, 1997). This consideration of the pore size rather than the grain size is an important perspective to take on the team's manipulation of sand grain size. This published paper has provided useful background to help the team proceed with planning test runs. The parameters and explanations of significance have helped the team understand the effect of certain variables on the failure time. In addition, the ranges for sand grain size stated in the literature reviewed has provided a helpful consideration for a starting point for future test runs.\n",
        "\n",
        "\n",
        "\n",
        "<!-- this is a good lit review, i can you took the time to read through the lit reviews. please try an include more on how this has helped your plans for experimentations at the end-->\n",
        "<!--make sure all your citations are listed in your bibliography-->\n",
        "<!--- 9/10 --->\n",
        "##**Previous Work**\n",
        "---\n",
        "\n",
        "\n",
        "In the Spring of 2019, the StaRS team focused on the grain size effect on the efficiency of the filters. The end goal being to develop a mathematical model that best describes the efficiency of a filter and the variables that affect failure time. When experimentation began for this team, the filters showed signs of leaking and the team spent most of the semester fabricating a new filter to replace the leaking one. \n",
        "<center>\n",
        "\n",
        "<img src=\"https://raw.githubusercontent.com/AguaClara/stars_filter_theory/master/Fall%202018/Images/Apparatus%20Design.jpg?raw=true\" height = 300 />\n",
        "\n",
        "***Figure 1: The schematic for the Spring 2019 experimental filter apparatus.***\n",
        "</center>\n",
        "\n",
        "The Fall 2019 StaRS filter team developed a new apparatus in order to simplify the variability of the old design. The most prominent simplification in the new design was the decision to run only one filter (with one of the grain sizes) at a time rather than all three at once. This simplification allows for the use of only two turbidimeters, rather than the four requiered in the past design. One turbidimeter is used for influent flow and the other for effluent flow. Additionally, unlike past designs, the water enters the apparatus and immediately goes through the water pump in both the forward and backwash cycles. This change eliminated the unwanted cycling of wastewater through the system during backwash that was observed by the Fall 2019 team.  \n",
        "\n",
        "While the apparatus can only flow through one filter at a time, all three grain sizes can still be tested. There are three location on each filter column that can manually be adjusted to change which filter and therefore which sand grain size is undergoing experimentation. These location include the top, middle, and bottom inlet/outlets of the filter column. While not in use, these outlets will have plugs in them to maintain pressure and ensure water, sand, and other particles are not leaking out of the filter column.\n",
        "\n",
        "An additional adjusment made by the 2019 StaRS filter subteam was the use of consistent pipe sizing. In years prior, the diameter of tubing varied with location within the apparatus. This design leads to inconsisten pressure throughout the apparatus and therefore inconsistent water flow. By creating a design with consistent piping, the variabiliy of water flow is eliminated. In deciding which tubing size to use, it was necessary to measure the amount of kinetic energy a chosen pipe size would create throughout the system. The 2019 StaRS team chose .17in pipes and the calculations showed acceptable kinetic energy so the apparatus was designed using this size throughout the system. \n",
        "\n",
        "Lastly, the Fall 2019 StaRS subteam replaced the pump previously used in the apparatus. It was discovered that while the old pump could provide enough flow of water to the filters during forward flow, it could not produce a strong enough flow rate for backwash. The backwash flow rate needed is six times the flow rate needed for forward flow. The new pump is able to accomidate for this speed. \n",
        "\n",
        "This new apparatus requires slightly more manual adjustments than previous designs, however, the simplification lends itself to a better understanding of the apparatus as a whole\n",
        "\n",
        "The Spring 2019 StaRS team inherited the apparatus of the previous semester and will start moving forward with the testing of sand grain size after completing the design and adding a few small changes. First, the 2020 Spring team made a new flocculator for the system as the old one was molding and made with the wrong tubing size. Additionally, the coagulant and clay pumps needed to be connected to the system. The previous semester's team had only run the apparatus with water as they were waiting to receive parts required to run the other pumps. Lastly, the team found that an error in ProCoda has been causing troubles in the functionality of the water pump. In order to move forward with experimentation the team decided to run the system by manually adjusting the water pump until ProCoda has been fixed and can function without manual help. With these adjustments the apparatus is now ready to be with clay and coagulant.  \n",
        "\n",
        "\n",
        "<center>\n",
        "\n",
        "<img src=\"https://lh6.googleusercontent.com/Ch_a08mZulKlrsyXmd0GGDl2ZGrCzbmeNbe2wLCo2TGUVEAGwTBDiFoytjtRbG7CVApLrB8LMI6WOCcpdmRpxyHho_2lMaIyMSrhOQ-suGiMNlkmMWYlKvFBZOrErq_h9FlU_DaZ?raw=true\" height = 300 />\n",
        "\n",
        "\n",
        "***Figure 2: The schematic for the Fall 2019 experimental filter apparatus.***\n",
        "\n",
        "</center>"
      ]
    },
    {
      "cell_type": "markdown",
      "metadata": {
        "id": "a7POfNmj2Gr7",
        "colab_type": "text"
      },
      "source": [
        "##**Methods**\n",
        "---\n",
        "Due to time spent on redesigning and fixing the apparatus, in addition to waiting for new materials, the StaRS team this semester was unable to conduct experiments and collect data. Even so, the team has constructed a new Procoda file to appropriately operate the new apparatus due to changes on the general water flow during forward flow and backwash, as explained in the following section, Experimental Apparatus. The water pump was also changed to accomodate the faster pump rate necessary for backwash. Such adjustments to the team's equipment and technology were necessary to make efficient progress and properly prepare for collection of meaningful data next semester. \n",
        "\n",
        "In addition, as to make progress in understanding the known and potential shortcomings of the experimental apparatus, the team ran backwash on each of the filters for approximately 12 minutes. This was done in effort to watch for leaks and potential mistakes with calling operations with Procoda, as well as, clean out the mold throughout the system.\n",
        "\n",
        "###**Hypothesis on the Filter Performance Model**\n",
        "\n",
        "\n",
        "1.    The number of fully-loaded pores is increasing linearly with time with the amount of solids that have been captured by the filter.\n",
        "\n",
        "2.   Flocs cannot attach to the filter surfaces when the fluid drag on the floc exceeds the strength of the bonds between the coagulant nanoparticles and the particles and pore surfaces. As pores are getting smaller due to deposition, incoming flocs are getting harder to attach to the pore surfaces. The flocs will end up passing right through the pore even though there might be significant deformation on the flocs. \n",
        "\n",
        "3. Dual media filters are pointless because the smaller media at the downstream end of the filter remains clean. The multimedia filters can be replaced with a single media filter.\n",
        "\n",
        "4. According to AguaClara textbook, dual media filtration has the advantage of having a lower rate of head loss accumulation over single media filtration. The larger portion in the dual media might be responsible for the constant rate of increase of head loss over time for dual media filters. Therefore, there is a hypothesis that larger diameter media might work better for rapid sand filters. \n",
        "\n",
        "\n",
        "\n",
        "\n",
        "\n",
        "###**Sands Size Selection**\n",
        "The sand particle size used in the Agua Clara Plant in Honduras is around 0.45 mm, which falls into the mesh number range from 35 to 40, correspondingly sieve opening from 0.425 mm to 0.50 mm. Aiming to experiment with a wide range of sand grain sizes this semester, the team will preliminary try to obtain the mesh number 16 (sieve opening of 1.18 mm), 20 (sieve opening of 0.85 mm) and the sand particle size that is smaller than the AguaClara sand size, which can be obtained from the bottom of the sifting apparatus. According to AguaClara textbook, dual media filtration has the advantage of having a lower rate of head loss accumulation over single media filtration. The larger portion in the dual media might be responsible for the constant rate of increase of head loss over time for dual media filters. Therefore, there is a hypothesis that larger diameter media might work better for rapid sand filters. The team will prioritize the experiment run with the largest sand grain size we can obtain from our current sifting. \n",
        "\n",
        "###**Stock Solution Preparation**\n",
        "According to AguaClara textbook, large flocs are easier to capture than primary particles in a sand filter. Large flocs tend to fill the active zone out of service first. Therefore, influent floc size distribution might influence filter performance. From the Fall 2018 report, an ideal coagulant dosage concentration to test with is between 0.02 and 0.1 mg/L of PaCl, the range that optimizes filter performance as determined by the Spring 2018 team.\n",
        "Based on the calculations in [this link](https://colab.research.google.com/drive/1YUdELxvhMtVvYul9_F6d-Xg3GpzNvL_l), the team was able to calculate the clay stock concentration needed, 0.375 g/L, targeting at the approximate expected incoming 5 NTU turbidity in the filtration unit processes. Given 100 mg/L of Humic acid was sufficient to prevent the clay stock from showing signs of flocculation. Presumably this ratio of 100 mg of humic acid per 15 g of clay can be used for other clay stock suspensions. From the 0.375 g/L clay stock, the team added 2.5 mg humic acid according to the ratio (15 g/L clay / 100 mg humic acid) for the final clay solution. \n"
      ]
    },
    {
      "cell_type": "markdown",
      "metadata": {
        "id": "ToB7a10c8Ubg",
        "colab_type": "text"
      },
      "source": [
        "## **Experimental Apparatus**\n",
        "---\n",
        "The Spring 2019 StaRS team inherited the apparatus of the previous semester and will start moving forward with the testing of sand grain size after completing the design and adding a few small changes. First, the 2020 Spring team made a new flocculator for the system as the old one was molding and made with the wrong tubing size. Additionally, the coagulant and clay pumps needed to be connected to the system. The previous semester's team had only run the apparatus with water as they were waiting to receive parts required to run the other pumps. Lastly, the team found that an error in ProCoda has been causing troubles in the functionality of the water pump. In order to move forward with experimentation the team decided to run the system by manually adjusting the water pump until ProCoda has been fixed and can function without manual help. With these adjustments the apparatus is now ready to be with clay and coagulant.  \n",
        "\n",
        "\n",
        "\n",
        "<center>\n",
        "\n",
        "<img src=\"https://lh6.googleusercontent.com/Ch_a08mZulKlrsyXmd0GGDl2ZGrCzbmeNbe2wLCo2TGUVEAGwTBDiFoytjtRbG7CVApLrB8LMI6WOCcpdmRpxyHho_2lMaIyMSrhOQ-suGiMNlkmMWYlKvFBZOrErq_h9FlU_DaZ?raw=true\" height = 300 />\n",
        "\n",
        "</center>\n",
        "\n",
        "<!--make sure to proofread your work, there are quite a few typos in this section.--->\n",
        "<!--9/10--->\n",
        "\n",
        "<!-- Overall: 36.5/40 --->\n",
        "<!-- Well written report overall. Please take note of my comments and implement for your next report. It would be nice to also see a future works section but it is not required. Message me with any questions-->"
      ]
    },
    {
      "cell_type": "markdown",
      "metadata": {
        "id": "uQBlaQNP-VJA",
        "colab_type": "text"
      },
      "source": [
        "## **Future Work**\n",
        "---\n",
        "- Fill the sand column with the sifted sand\n",
        "- Data collection"
      ]
    },
    {
      "cell_type": "markdown",
      "metadata": {
        "id": "ZXUik5SH-YFM",
        "colab_type": "text"
      },
      "source": [
        "## **Bibliography**\n",
        "---\n",
        "\n",
        "\n",
        "Converse James C. and E. Jerry Tyler. 2000. Wisconsin Mound Soil Absorption Systems: Siting, Design and\n",
        "Construction Manual. Small Scale Waste Management Project. 345 King Hall, University-Madison, 1525 Linden\n",
        "Drive, Madison, WI 53706. \n",
        "\n",
        "Logan, B. E., Hermanowicz, S. W., & Parker,A. S. (1987). A Fundamental Model for Trickling Filter Process Design. Journal (Water Pollution Control Federation), 59(12), 1029–1042.\n",
        "\n",
        "Ohio State University. 1999. Sand Bioreactors for Wastewater Treatment for Ohio Communities. Bulletin 876-99. pp. 1-5.\n",
        "\n",
        "Weber-Shirk, M., Guzman, J., O'Connor, C., Pennock, W., Lion, L., Du, Y., & Maisel, Z. (2019) \"AguaClara Cornell Textbook\"\n",
        "\n",
        "\n"
      ]
    },
    {
      "cell_type": "markdown",
      "metadata": {
        "id": "EvBA8kN4-dty",
        "colab_type": "text"
      },
      "source": [
        "# **Manual**\n",
        "---\n",
        "The goal of this section is to provide all of the guidance that would be necessary for a future team to pick up your work where you left off. Please try to be thorough and put yourselves in the shoes of a newcomer to the project. Below are some recommended sections, but the manual will likely take a slightly different form for each team."
      ]
    },
    {
      "cell_type": "markdown",
      "metadata": {
        "id": "yfoW16_iACYt",
        "colab_type": "text"
      },
      "source": [
        "## **Fabrication Details**\n",
        "Fabrication Details\n",
        "The StaRS team received fabrication training in order to have a holistic and safe understanding of the power tools when fabricating the three new filters. Each filter was constructed identically, with one influent stream and one effluent stream. In previous years, the team’s filter was composed of two stacked filter layers (total sand depth was 40 cm), but the team this year decided that one layer (total sand depth 20 cm) would be equally effective for the purposes of the research.\n",
        "\n",
        "When determining the height of the new filters, the backwash expansion needed to considered. During backwash, the sand in a StaRS filter is pushed up by the water and it expands throughout the column. Equation 3 was used by previous teams to determine the height of the sand bed during backwash expansion.\n",
        "\n",
        "<center>\n",
        "\n",
        "![display text](https://raw.githubusercontent.com/AguaClara/stars_filter_theory/master/Fall%202018/Images/sand%20expansion%20equation.png)\n",
        "\n",
        "***Equation 3: The height of the sand bed during backwash expansion.***\n",
        "\n",
        "</center>\n",
        "\n",
        "\n",
        "\n",
        "As a result, the team determined it was necessary that the height of the new filters be at least 30 cm. To stay on the safe side, the team constructed the three filters at a height of 40cm.\n",
        "\n",
        "The team also needed to determine the orifice size for the inlet pipes into the filters. Previous teams determined this size using equation 1. However, the reasoning behind the equation and the influence of orifice size on the filter has yet to be fully investigated. Therefore, the team chose to use the same orifice dimensions as the inlet pipe for the previous apparatus, which is 0.8 cm x 2.25 cm, located 0.2 cm from the end of the inlet pipe (Fig. 4).\n",
        "\n",
        "#**Materials**\n",
        "- Transparent PVC pipe of inner diameter 1 in. at least 120 cm in length (Obtained from AguaClara Lab)\n",
        "- 3x PVC Pipe caps of inner diameter 1.32 in. (Obtained from AguaClara Lab)\n",
        "- Brass (or copper) pipe of outer diameter 0.50 in., inner diameter 0.436 in., and at least 60 cm in length. The team used brass for the apparatus, obtained from McMaster-Carr, Part Number: 5157K133.\n",
        "-3x unthreaded push-to-connect reducers, 1/2\" to 3/8\"\n",
        "-3x threaded push-to-connect reducers, 1/2\" to 3/8\"\n",
        "- Sand sieved to three size ranges: .354-.5 mm (between 35-45 mesh size), .5-.707 mm (25-35 mesh size), and .707-1 mm (16-25 mesh size) in diameter.   Approximately 110 cm^3 of each type of sand was required (Obtained from AguaClara Lab and Sieved in Cornell Center for Materials Research)\n",
        "- 3x turbidimeters (Obtained from the AguaClara lab)\n",
        "- 3x pressure sensors (Obtained from the AguaClara Lab)\n",
        "- Teflon Tape\n",
        "- 3x 1\" LASCOtite Adapter MPT x Gasket, Part Number: 21305\n",
        "-  3x LASCO Sch80 Reducer Bushing (Flush Style) MPT x FPT, Part Number: 839128\n",
        "- 3x 2\" McMaster-Carr Straight Adaptor with Hex Body, Part Number: 4596K57\n",
        "- 3x Push-to-Connect Fitting for Drinking Water, Straight Adapter, for 1/4\" Tube OD x 1/8 BSPT Male, Part Number: 5104K15\n",
        "- Wire mesh\n",
        "\n"
      ]
    },
    {
      "cell_type": "markdown",
      "metadata": {
        "id": "BiTsuHFrGAm5",
        "colab_type": "text"
      },
      "source": [
        "## **ProCoDA Method File**\n",
        "---\n",
        "\n",
        "**Upload your ProCoDA method file to your Github repository and provide a [link]() it in your report.**\n",
        "\n",
        "Use the rest of this section to explain your method file. Your explanation can be broken up into several components as shown below:\n"
      ]
    },
    {
      "cell_type": "markdown",
      "metadata": {
        "id": "CnTgFhHEGE_f",
        "colab_type": "text"
      },
      "source": [
        "\n",
        "> ### States\n",
        "\n",
        "Here, you should describe the function of each state in your method file, both in terms of its overall purpose and also in terms of the details that make it distinct from other states. For example:\n",
        "\n",
        " - **OFF**: Resting state of ProCoDA. All sensors, relays, and pumps are turned off.\n",
        "\n",
        " - **ON**: Water pump (with rate for forward flow), coagulant (PaCl) pump, clay pump, and valves 3 and 4 are on. All other set points are not called.\n",
        "\n",
        " - **BACKWASH**: Water pump (with rate for backwash) and valves 5 and 7 are on. All other set points are not called.\n"
      ]
    },
    {
      "cell_type": "markdown",
      "metadata": {
        "id": "Ks6ALZO2GH_E",
        "colab_type": "text"
      },
      "source": [
        ">### Set Points\n",
        "\n",
        "Here, you should list the set points used in your method file and explain their use as well as how each was calculated.\n"
      ]
    },
    {
      "cell_type": "markdown",
      "metadata": {
        "id": "LaELphDxGIE-",
        "colab_type": "text"
      },
      "source": [
        "## **Python Code**\n",
        "---\n",
        "\n",
        "The Fall 2019 Stars team did not run any experiments so the following code was not used during the semester. Next semester, the calculations will prove useful for clay and coagulant doses. \n",
        "\n",
        "\n",
        "\n",
        "> **PaCl Concentration**\n",
        "\n"
      ]
    },
    {
      "cell_type": "code",
      "metadata": {
        "id": "nIwvyjLh4NwJ",
        "colab_type": "code",
        "colab": {}
      },
      "source": [
        "#importing aguaclara packages needed for calculations\n",
        "import aguaclara\n",
        "#pyschem contains useful functions for calculations\n",
        "import aguaclara.core.physchem as pc\n",
        "#units package helps us convert to useful untis\n",
        "from aguaclara.core.units import unit_registry as u\n",
        "#math packages\n",
        "import numpy as np\n",
        "from aide_design.play import*\n",
        "\n",
        "#stock concentration in the lab now, may change as new stock is created\n",
        "stock_concentration=70.28 *u.g/u.l\n",
        "#We went with .2 mg/L because that has shown the longest failure time for past subteam experiments\n",
        "final_concentration=.2 *u.mg/u.l\n",
        "final_volume=2* u.l\n",
        "#Volume_stock=Volume_Final*Concentration_Final/Concentation_stock\n",
        "#We wanted units of microliters\n",
        "stock_volume=(final_concentration*final_volume/stock_concentration).to(u.microl)\n",
        "print(stock_volume)\n",
        "#Volume is: 5.69 microliters\n",
        "# Now we can calculate volume needed in the future if the stock concentration changes"
      ],
      "execution_count": 0,
      "outputs": []
    },
    {
      "cell_type": "markdown",
      "metadata": {
        "id": "Vfum-Sa-4T-A",
        "colab_type": "text"
      },
      "source": [
        "> **Clay Concentration calculations**\n",
        "\n"
      ]
    },
    {
      "cell_type": "code",
      "metadata": {
        "id": "mxVTMqky4YQx",
        "colab_type": "code",
        "colab": {}
      },
      "source": [
        "#importing aguaclara packages needed for calculations\n",
        "import aguaclara\n",
        "#pyschem contains useful functions for calculations\n",
        "import aguaclara.core.physchem as pc\n",
        "#units package helps us convert to useful untis\n",
        "from aguaclara.core.units import unit_registry as u\n",
        "#math packages\n",
        "import numpy as np\n",
        "from aide_design.play import*\n",
        "\n",
        "#flow rate in standard Aguaclara plants\n",
        "q_plant= .000634 *u.l\n",
        "#influent turbidity at the beginning of filtration in Aguaclara plants\n",
        "turbidity_plant= .0085 *u.g/u.l\n",
        "#clay pump speed taken from past report calculations for 100 rpm\n",
        "q_claypump= .00007 *u.l\n",
        "#final clay concentration = .077 g/L\n",
        "concentration_clay= (q_plant*turbidity_plant)/q_claypump\n",
        "#volume of clay stock three times larger than past teams using only one filters\n",
        "volume_clay= 3 *u.l\n",
        "#mass of clay to be added = .231 grams\n",
        "mass_clay=concentration_clay*volume_clay\n",
        "#if using humic acid as well as clay, follow the calculations below\n",
        "#final humic acid mass to be added= .027 grams\n",
        "concentration_ha= .001 *u.g/u.l\n",
        "stock_ratio_ha= concentration_ha/turbidity_plant\n",
        "mass_ha=mass_clay*stock_ratio_ha"
      ],
      "execution_count": 0,
      "outputs": []
    },
    {
      "cell_type": "markdown",
      "metadata": {
        "id": "2vIiWASQGvuA",
        "colab_type": "text"
      },
      "source": [
        "### **Code for Experimental Design**\n",
        "\n",
        "Make sure variables in your code, as well as anything that might not be easily understood by a newcomer, is well commented. Also include the outputs of your code, if applicable and not given earlier in the report.\n"
      ]
    },
    {
      "cell_type": "code",
      "metadata": {
        "id": "cVnPr9RyG7lf",
        "colab_type": "code",
        "colab": {}
      },
      "source": [
        "import aguaclara.research.peristaltic_pump as pp\n",
        "import aguaclara.research.stock_qc as stock_qc\n",
        "from aguaclara.core.units import unit_registry as u\n",
        "\n",
        "# volume per revolution flowing from the pump for PACl (coagulant) stock\n",
        "vol_per_rev_PACl = pp.vol_per_rev_3_stop(\"yellow-blue\")\n",
        "# revolutions per minute of PACl stock pump\n",
        "rpm_PACl = 3 * u.rev/u.min\n",
        "# flow rate from the PACl stock pump\n",
        "Q_PACl = pp.flow_rate(vol_per_rev_PACl, rpm_PACl)\n",
        "\n",
        "\n",
        "# desired system flow rate\n",
        "Q_sys = 2 * u.mL/u.s\n",
        "# desired system concentration of PACl\n",
        "C_sys = 1.4 * u.mg/u.L\n",
        "# a variable representing the reactor and its parameters\n",
        "reactor = stock_qc.Variable_C_Stock(Q_sys, C_sys, Q_PACl)\n",
        "\n",
        "\n",
        "# required concentration of PACl stock\n",
        "C_stock_PACl = reactor.C_stock()\n",
        "# concentration of purchased PACl super stock in lab\n",
        "C_super_PACl = 70.28 * u.g/u.L\n",
        "# dilution factor of PACl super stock necessary to achieve PACl stock\n",
        "# concentration (in L of super stock per L water)\n",
        "dilution = reactor.dilution_factor(C_super_PACl)\n",
        "mL_per_L = dilution * 1000\n",
        "\n",
        "print(\"A reactor with a system flow rate of\", Q_sys, \",\")\n",
        "print(\"a system PACl concentration of\", C_sys, \",\")\n",
        "print(\"and a PACl stock flow rate of\", Q_PACl)\n",
        "print(\"will require a dilution factor of\", round(mL_per_L.magnitude, 3),\n",
        "  \"milliliters of PACl super\")\n",
        "print(\"stock per liter of water for the PACl stock.\")"
      ],
      "execution_count": 0,
      "outputs": []
    }
  ]
}